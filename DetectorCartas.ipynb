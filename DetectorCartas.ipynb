{
  "nbformat": 4,
  "nbformat_minor": 0,
  "metadata": {
    "colab": {
      "name": "DetectorCartas.ipynb",
      "provenance": [],
      "collapsed_sections": []
    },
    "kernelspec": {
      "name": "python3",
      "display_name": "Python 3"
    },
    "accelerator": "GPU"
  },
  "cells": [
    {
      "cell_type": "code",
      "source": [
        "! pip install tensorflow==2.4.1"
      ],
      "metadata": {
        "id": "gwRHzL8Mq2qz",
        "colab": {
          "base_uri": "https://localhost:8080/",
          "height": 1000
        },
        "outputId": "16350633-bc1f-4021-c9ef-014a25c10ed3"
      },
      "execution_count": null,
      "outputs": [
        {
          "output_type": "stream",
          "name": "stdout",
          "text": [
            "Collecting tensorflow==2.4.1\n",
            "  Downloading tensorflow-2.4.1-cp37-cp37m-manylinux2010_x86_64.whl (394.3 MB)\n",
            "\u001b[K     |████████████████████████████████| 394.3 MB 11 kB/s \n",
            "\u001b[?25hRequirement already satisfied: tensorboard~=2.4 in /usr/local/lib/python3.7/dist-packages (from tensorflow==2.4.1) (2.8.0)\n",
            "Requirement already satisfied: wheel~=0.35 in /usr/local/lib/python3.7/dist-packages (from tensorflow==2.4.1) (0.37.1)\n",
            "Requirement already satisfied: termcolor~=1.1.0 in /usr/local/lib/python3.7/dist-packages (from tensorflow==2.4.1) (1.1.0)\n",
            "Collecting wrapt~=1.12.1\n",
            "  Downloading wrapt-1.12.1.tar.gz (27 kB)\n",
            "Requirement already satisfied: opt-einsum~=3.3.0 in /usr/local/lib/python3.7/dist-packages (from tensorflow==2.4.1) (3.3.0)\n",
            "Collecting flatbuffers~=1.12.0\n",
            "  Downloading flatbuffers-1.12-py2.py3-none-any.whl (15 kB)\n",
            "Collecting gast==0.3.3\n",
            "  Downloading gast-0.3.3-py2.py3-none-any.whl (9.7 kB)\n",
            "Requirement already satisfied: six~=1.15.0 in /usr/local/lib/python3.7/dist-packages (from tensorflow==2.4.1) (1.15.0)\n",
            "Requirement already satisfied: keras-preprocessing~=1.1.2 in /usr/local/lib/python3.7/dist-packages (from tensorflow==2.4.1) (1.1.2)\n",
            "Requirement already satisfied: protobuf>=3.9.2 in /usr/local/lib/python3.7/dist-packages (from tensorflow==2.4.1) (3.17.3)\n",
            "Collecting grpcio~=1.32.0\n",
            "  Downloading grpcio-1.32.0-cp37-cp37m-manylinux2014_x86_64.whl (3.8 MB)\n",
            "\u001b[K     |████████████████████████████████| 3.8 MB 37.3 MB/s \n",
            "\u001b[?25hCollecting tensorflow-estimator<2.5.0,>=2.4.0\n",
            "  Downloading tensorflow_estimator-2.4.0-py2.py3-none-any.whl (462 kB)\n",
            "\u001b[K     |████████████████████████████████| 462 kB 31.9 MB/s \n",
            "\u001b[?25hRequirement already satisfied: astunparse~=1.6.3 in /usr/local/lib/python3.7/dist-packages (from tensorflow==2.4.1) (1.6.3)\n",
            "Collecting numpy~=1.19.2\n",
            "  Downloading numpy-1.19.5-cp37-cp37m-manylinux2010_x86_64.whl (14.8 MB)\n",
            "\u001b[K     |████████████████████████████████| 14.8 MB 37.2 MB/s \n",
            "\u001b[?25hCollecting typing-extensions~=3.7.4\n",
            "  Downloading typing_extensions-3.7.4.3-py3-none-any.whl (22 kB)\n",
            "Collecting absl-py~=0.10\n",
            "  Downloading absl_py-0.15.0-py3-none-any.whl (132 kB)\n",
            "\u001b[K     |████████████████████████████████| 132 kB 51.2 MB/s \n",
            "\u001b[?25hRequirement already satisfied: google-pasta~=0.2 in /usr/local/lib/python3.7/dist-packages (from tensorflow==2.4.1) (0.2.0)\n",
            "Collecting h5py~=2.10.0\n",
            "  Downloading h5py-2.10.0-cp37-cp37m-manylinux1_x86_64.whl (2.9 MB)\n",
            "\u001b[K     |████████████████████████████████| 2.9 MB 33.1 MB/s \n",
            "\u001b[?25hRequirement already satisfied: werkzeug>=0.11.15 in /usr/local/lib/python3.7/dist-packages (from tensorboard~=2.4->tensorflow==2.4.1) (1.0.1)\n",
            "Requirement already satisfied: setuptools>=41.0.0 in /usr/local/lib/python3.7/dist-packages (from tensorboard~=2.4->tensorflow==2.4.1) (57.4.0)\n",
            "Requirement already satisfied: google-auth-oauthlib<0.5,>=0.4.1 in /usr/local/lib/python3.7/dist-packages (from tensorboard~=2.4->tensorflow==2.4.1) (0.4.6)\n",
            "Requirement already satisfied: markdown>=2.6.8 in /usr/local/lib/python3.7/dist-packages (from tensorboard~=2.4->tensorflow==2.4.1) (3.3.6)\n",
            "Requirement already satisfied: tensorboard-data-server<0.7.0,>=0.6.0 in /usr/local/lib/python3.7/dist-packages (from tensorboard~=2.4->tensorflow==2.4.1) (0.6.1)\n",
            "Requirement already satisfied: tensorboard-plugin-wit>=1.6.0 in /usr/local/lib/python3.7/dist-packages (from tensorboard~=2.4->tensorflow==2.4.1) (1.8.1)\n",
            "Requirement already satisfied: requests<3,>=2.21.0 in /usr/local/lib/python3.7/dist-packages (from tensorboard~=2.4->tensorflow==2.4.1) (2.23.0)\n",
            "Requirement already satisfied: google-auth<3,>=1.6.3 in /usr/local/lib/python3.7/dist-packages (from tensorboard~=2.4->tensorflow==2.4.1) (1.35.0)\n",
            "Requirement already satisfied: pyasn1-modules>=0.2.1 in /usr/local/lib/python3.7/dist-packages (from google-auth<3,>=1.6.3->tensorboard~=2.4->tensorflow==2.4.1) (0.2.8)\n",
            "Requirement already satisfied: cachetools<5.0,>=2.0.0 in /usr/local/lib/python3.7/dist-packages (from google-auth<3,>=1.6.3->tensorboard~=2.4->tensorflow==2.4.1) (4.2.4)\n",
            "Requirement already satisfied: rsa<5,>=3.1.4 in /usr/local/lib/python3.7/dist-packages (from google-auth<3,>=1.6.3->tensorboard~=2.4->tensorflow==2.4.1) (4.8)\n",
            "Requirement already satisfied: requests-oauthlib>=0.7.0 in /usr/local/lib/python3.7/dist-packages (from google-auth-oauthlib<0.5,>=0.4.1->tensorboard~=2.4->tensorflow==2.4.1) (1.3.1)\n",
            "Requirement already satisfied: importlib-metadata>=4.4 in /usr/local/lib/python3.7/dist-packages (from markdown>=2.6.8->tensorboard~=2.4->tensorflow==2.4.1) (4.11.1)\n",
            "Requirement already satisfied: zipp>=0.5 in /usr/local/lib/python3.7/dist-packages (from importlib-metadata>=4.4->markdown>=2.6.8->tensorboard~=2.4->tensorflow==2.4.1) (3.7.0)\n",
            "Requirement already satisfied: pyasn1<0.5.0,>=0.4.6 in /usr/local/lib/python3.7/dist-packages (from pyasn1-modules>=0.2.1->google-auth<3,>=1.6.3->tensorboard~=2.4->tensorflow==2.4.1) (0.4.8)\n",
            "Requirement already satisfied: certifi>=2017.4.17 in /usr/local/lib/python3.7/dist-packages (from requests<3,>=2.21.0->tensorboard~=2.4->tensorflow==2.4.1) (2021.10.8)\n",
            "Requirement already satisfied: urllib3!=1.25.0,!=1.25.1,<1.26,>=1.21.1 in /usr/local/lib/python3.7/dist-packages (from requests<3,>=2.21.0->tensorboard~=2.4->tensorflow==2.4.1) (1.24.3)\n",
            "Requirement already satisfied: idna<3,>=2.5 in /usr/local/lib/python3.7/dist-packages (from requests<3,>=2.21.0->tensorboard~=2.4->tensorflow==2.4.1) (2.10)\n",
            "Requirement already satisfied: chardet<4,>=3.0.2 in /usr/local/lib/python3.7/dist-packages (from requests<3,>=2.21.0->tensorboard~=2.4->tensorflow==2.4.1) (3.0.4)\n",
            "Requirement already satisfied: oauthlib>=3.0.0 in /usr/local/lib/python3.7/dist-packages (from requests-oauthlib>=0.7.0->google-auth-oauthlib<0.5,>=0.4.1->tensorboard~=2.4->tensorflow==2.4.1) (3.2.0)\n",
            "Building wheels for collected packages: wrapt\n",
            "  Building wheel for wrapt (setup.py) ... \u001b[?25l\u001b[?25hdone\n",
            "  Created wheel for wrapt: filename=wrapt-1.12.1-cp37-cp37m-linux_x86_64.whl size=68720 sha256=ddbdef77c6ee1d62e5df47f9489a96204039ab6e71726187dff8a79047303d7d\n",
            "  Stored in directory: /root/.cache/pip/wheels/62/76/4c/aa25851149f3f6d9785f6c869387ad82b3fd37582fa8147ac6\n",
            "Successfully built wrapt\n",
            "Installing collected packages: typing-extensions, numpy, grpcio, absl-py, wrapt, tensorflow-estimator, h5py, gast, flatbuffers, tensorflow\n",
            "  Attempting uninstall: typing-extensions\n",
            "    Found existing installation: typing-extensions 3.10.0.2\n",
            "    Uninstalling typing-extensions-3.10.0.2:\n",
            "      Successfully uninstalled typing-extensions-3.10.0.2\n",
            "  Attempting uninstall: numpy\n",
            "    Found existing installation: numpy 1.21.5\n",
            "    Uninstalling numpy-1.21.5:\n",
            "      Successfully uninstalled numpy-1.21.5\n",
            "  Attempting uninstall: grpcio\n",
            "    Found existing installation: grpcio 1.43.0\n",
            "    Uninstalling grpcio-1.43.0:\n",
            "      Successfully uninstalled grpcio-1.43.0\n",
            "  Attempting uninstall: absl-py\n",
            "    Found existing installation: absl-py 1.0.0\n",
            "    Uninstalling absl-py-1.0.0:\n",
            "      Successfully uninstalled absl-py-1.0.0\n",
            "  Attempting uninstall: wrapt\n",
            "    Found existing installation: wrapt 1.13.3\n",
            "    Uninstalling wrapt-1.13.3:\n",
            "      Successfully uninstalled wrapt-1.13.3\n",
            "  Attempting uninstall: tensorflow-estimator\n",
            "    Found existing installation: tensorflow-estimator 2.8.0\n",
            "    Uninstalling tensorflow-estimator-2.8.0:\n",
            "      Successfully uninstalled tensorflow-estimator-2.8.0\n",
            "  Attempting uninstall: h5py\n",
            "    Found existing installation: h5py 3.1.0\n",
            "    Uninstalling h5py-3.1.0:\n",
            "      Successfully uninstalled h5py-3.1.0\n",
            "  Attempting uninstall: gast\n",
            "    Found existing installation: gast 0.5.3\n",
            "    Uninstalling gast-0.5.3:\n",
            "      Successfully uninstalled gast-0.5.3\n",
            "  Attempting uninstall: flatbuffers\n",
            "    Found existing installation: flatbuffers 2.0\n",
            "    Uninstalling flatbuffers-2.0:\n",
            "      Successfully uninstalled flatbuffers-2.0\n",
            "  Attempting uninstall: tensorflow\n",
            "    Found existing installation: tensorflow 2.8.0\n",
            "    Uninstalling tensorflow-2.8.0:\n",
            "      Successfully uninstalled tensorflow-2.8.0\n",
            "\u001b[31mERROR: pip's dependency resolver does not currently take into account all the packages that are installed. This behaviour is the source of the following dependency conflicts.\n",
            "datascience 0.10.6 requires folium==0.2.1, but you have folium 0.8.3 which is incompatible.\n",
            "albumentations 0.1.12 requires imgaug<0.2.7,>=0.2.5, but you have imgaug 0.2.9 which is incompatible.\u001b[0m\n",
            "Successfully installed absl-py-0.15.0 flatbuffers-1.12 gast-0.3.3 grpcio-1.32.0 h5py-2.10.0 numpy-1.19.5 tensorflow-2.4.1 tensorflow-estimator-2.4.0 typing-extensions-3.7.4.3 wrapt-1.12.1\n"
          ]
        },
        {
          "output_type": "display_data",
          "data": {
            "application/vnd.colab-display-data+json": {
              "pip_warning": {
                "packages": [
                  "numpy"
                ]
              }
            }
          },
          "metadata": {}
        }
      ]
    },
    {
      "cell_type": "code",
      "metadata": {
        "id": "00IHeD31T11u",
        "colab": {
          "base_uri": "https://localhost:8080/"
        },
        "outputId": "47fb9c67-428c-4978-9cab-67705a60e435"
      },
      "source": [
        "# Import tensorflow and print current version\n",
        "import tensorflow as tf\n",
        "print(tf.__version__)"
      ],
      "execution_count": null,
      "outputs": [
        {
          "output_type": "stream",
          "name": "stdout",
          "text": [
            "2.4.1\n"
          ]
        }
      ]
    },
    {
      "cell_type": "code",
      "metadata": {
        "id": "0nVObatMICGp"
      },
      "source": [
        "# Import rest of libraries used in the code. Usually this is done at the beginning of the document but it can be done at any position\n",
        "import numpy as np\n",
        "import matplotlib.pyplot as plt\n",
        "from tensorflow.keras.models import Sequential\n",
        "import os\n",
        "import random"
      ],
      "execution_count": null,
      "outputs": []
    },
    {
      "cell_type": "code",
      "source": [
        "theSEED = 232323\n",
        "tf.random.set_seed(theSEED)\n",
        "np.random.seed(theSEED)\n",
        "random.seed(theSEED)"
      ],
      "metadata": {
        "id": "eR4oS6ANE4-B"
      },
      "execution_count": null,
      "outputs": []
    },
    {
      "cell_type": "code",
      "metadata": {
        "id": "4aX4ErzAn7sV"
      },
      "source": [
        "# Hyperparameters:\n",
        "# They must be carefully select depending on the dataset and model\n",
        "\n",
        "NB_EPOCH = 5       # Number of training epochs\n",
        "VALIDATION_SPLIT=0.2 # Size of the validation split taken from the training set. If your dataset has validation split, skip this part."
      ],
      "execution_count": null,
      "outputs": []
    },
    {
      "cell_type": "markdown",
      "metadata": {
        "id": "uSMXa5CwuK2Y"
      },
      "source": [
        "Cargamos el dataset:"
      ]
    },
    {
      "cell_type": "code",
      "metadata": {
        "id": "6AaT09KdT5dr",
        "colab": {
          "base_uri": "https://localhost:8080/"
        },
        "outputId": "420190e4-0158-49b1-9cf3-8472fb0cd4f1"
      },
      "source": [
        "from google.colab import drive\n",
        "drive.mount(\"/content/gdrive\")"
      ],
      "execution_count": null,
      "outputs": [
        {
          "output_type": "stream",
          "name": "stdout",
          "text": [
            "Mounted at /content/gdrive\n"
          ]
        }
      ]
    },
    {
      "cell_type": "code",
      "source": [
        "#!mkdir -p '/content/gdrive/MyDrive/Curso-Jetson/imagenes'"
      ],
      "metadata": {
        "id": "xx4q9N77IBxI"
      },
      "execution_count": null,
      "outputs": []
    },
    {
      "cell_type": "code",
      "source": [
        "#!gdown --id '14CuNJzfpF-HCOcgYXE1XF0umKIxCScB7' -O '/content/gdrive/MyDrive/Curso-Jetson/imagenes/fruits.zip'"
      ],
      "metadata": {
        "id": "aWSc2vzCHIbH",
        "colab": {
          "base_uri": "https://localhost:8080/"
        },
        "outputId": "5dbb55fb-a5a2-4463-f338-b7736223a46f"
      },
      "execution_count": null,
      "outputs": [
        {
          "output_type": "stream",
          "name": "stdout",
          "text": [
            "Downloading...\n",
            "From: https://drive.google.com/uc?id=14CuNJzfpF-HCOcgYXE1XF0umKIxCScB7\n",
            "To: /content/gdrive/MyDrive/Curso-Jetson/imagenes/fruits.zip\n",
            "100% 16.5M/16.5M [00:00<00:00, 87.9MB/s]\n"
          ]
        }
      ]
    },
    {
      "cell_type": "code",
      "source": [
        "!unzip '/content/gdrive/MyDrive/Curso-Jetson/imagenes/cartas.zip' -d '/content/gdrive/MyDrive/Curso-Jetson/imagenes/'"
      ],
      "metadata": {
        "id": "r_WiKr3bEbFZ",
        "colab": {
          "base_uri": "https://localhost:8080/"
        },
        "outputId": "a26fa83e-99ca-47ec-89e0-e68bf895bb1e"
      },
      "execution_count": null,
      "outputs": [
        {
          "output_type": "stream",
          "name": "stdout",
          "text": [
            "Archive:  /content/gdrive/MyDrive/Curso-Jetson/imagenes/cartas.zip\n",
            "   creating: /content/gdrive/MyDrive/Curso-Jetson/imagenes/cartas/\n",
            "   creating: /content/gdrive/MyDrive/Curso-Jetson/imagenes/cartas/sota/\n",
            "  inflating: /content/gdrive/MyDrive/Curso-Jetson/imagenes/cartas/sota/000000000.png  \n",
            "  inflating: /content/gdrive/MyDrive/Curso-Jetson/imagenes/cartas/sota/000000001.png  \n",
            "  inflating: /content/gdrive/MyDrive/Curso-Jetson/imagenes/cartas/sota/000000002.png  \n",
            "  inflating: /content/gdrive/MyDrive/Curso-Jetson/imagenes/cartas/sota/000000003.png  \n",
            "  inflating: /content/gdrive/MyDrive/Curso-Jetson/imagenes/cartas/sota/000000004.png  \n",
            "  inflating: /content/gdrive/MyDrive/Curso-Jetson/imagenes/cartas/sota/000000005.png  \n",
            "  inflating: /content/gdrive/MyDrive/Curso-Jetson/imagenes/cartas/sota/000000006.png  \n",
            "  inflating: /content/gdrive/MyDrive/Curso-Jetson/imagenes/cartas/sota/000000007.png  \n",
            "  inflating: /content/gdrive/MyDrive/Curso-Jetson/imagenes/cartas/sota/000000008.png  \n",
            "  inflating: /content/gdrive/MyDrive/Curso-Jetson/imagenes/cartas/sota/000000009.png  \n",
            "  inflating: /content/gdrive/MyDrive/Curso-Jetson/imagenes/cartas/sota/000000010.png  \n",
            "  inflating: /content/gdrive/MyDrive/Curso-Jetson/imagenes/cartas/sota/000000011.png  \n",
            "  inflating: /content/gdrive/MyDrive/Curso-Jetson/imagenes/cartas/sota/000000012.png  \n",
            "  inflating: /content/gdrive/MyDrive/Curso-Jetson/imagenes/cartas/sota/000000013.png  \n",
            "  inflating: /content/gdrive/MyDrive/Curso-Jetson/imagenes/cartas/sota/000000014.png  \n",
            "  inflating: /content/gdrive/MyDrive/Curso-Jetson/imagenes/cartas/sota/000000015.png  \n",
            "  inflating: /content/gdrive/MyDrive/Curso-Jetson/imagenes/cartas/sota/000000016.png  \n",
            "  inflating: /content/gdrive/MyDrive/Curso-Jetson/imagenes/cartas/sota/000000017.png  \n",
            "  inflating: /content/gdrive/MyDrive/Curso-Jetson/imagenes/cartas/sota/000000018.png  \n",
            "  inflating: /content/gdrive/MyDrive/Curso-Jetson/imagenes/cartas/sota/000000019.png  \n",
            "  inflating: /content/gdrive/MyDrive/Curso-Jetson/imagenes/cartas/sota/000000020.png  \n",
            "  inflating: /content/gdrive/MyDrive/Curso-Jetson/imagenes/cartas/sota/000000021.png  \n",
            "  inflating: /content/gdrive/MyDrive/Curso-Jetson/imagenes/cartas/sota/000000022.png  \n",
            "  inflating: /content/gdrive/MyDrive/Curso-Jetson/imagenes/cartas/sota/000000023.png  \n",
            "  inflating: /content/gdrive/MyDrive/Curso-Jetson/imagenes/cartas/sota/000000024.png  \n",
            "  inflating: /content/gdrive/MyDrive/Curso-Jetson/imagenes/cartas/sota/000000025.png  \n",
            "  inflating: /content/gdrive/MyDrive/Curso-Jetson/imagenes/cartas/sota/000000026.png  \n",
            "  inflating: /content/gdrive/MyDrive/Curso-Jetson/imagenes/cartas/sota/000000027.png  \n",
            "  inflating: /content/gdrive/MyDrive/Curso-Jetson/imagenes/cartas/sota/000000028.png  \n",
            "  inflating: /content/gdrive/MyDrive/Curso-Jetson/imagenes/cartas/sota/000000029.png  \n",
            "  inflating: /content/gdrive/MyDrive/Curso-Jetson/imagenes/cartas/sota/000000030.png  \n",
            "  inflating: /content/gdrive/MyDrive/Curso-Jetson/imagenes/cartas/sota/000000031.png  \n",
            "  inflating: /content/gdrive/MyDrive/Curso-Jetson/imagenes/cartas/sota/000000032.png  \n",
            "  inflating: /content/gdrive/MyDrive/Curso-Jetson/imagenes/cartas/sota/000000033.png  \n",
            "  inflating: /content/gdrive/MyDrive/Curso-Jetson/imagenes/cartas/sota/000000034.png  \n",
            "  inflating: /content/gdrive/MyDrive/Curso-Jetson/imagenes/cartas/sota/000000035.png  \n",
            "  inflating: /content/gdrive/MyDrive/Curso-Jetson/imagenes/cartas/sota/000000036.png  \n",
            "  inflating: /content/gdrive/MyDrive/Curso-Jetson/imagenes/cartas/sota/000000037.png  \n",
            "  inflating: /content/gdrive/MyDrive/Curso-Jetson/imagenes/cartas/sota/000000038.png  \n",
            "  inflating: /content/gdrive/MyDrive/Curso-Jetson/imagenes/cartas/sota/000000039.png  \n",
            "  inflating: /content/gdrive/MyDrive/Curso-Jetson/imagenes/cartas/sota/000000040.png  \n",
            "  inflating: /content/gdrive/MyDrive/Curso-Jetson/imagenes/cartas/sota/000000041.png  \n",
            "  inflating: /content/gdrive/MyDrive/Curso-Jetson/imagenes/cartas/sota/000000042.png  \n",
            "  inflating: /content/gdrive/MyDrive/Curso-Jetson/imagenes/cartas/sota/000000043.png  \n",
            "  inflating: /content/gdrive/MyDrive/Curso-Jetson/imagenes/cartas/sota/000000044.png  \n",
            "  inflating: /content/gdrive/MyDrive/Curso-Jetson/imagenes/cartas/sota/000000045.png  \n",
            "  inflating: /content/gdrive/MyDrive/Curso-Jetson/imagenes/cartas/sota/000000046.png  \n",
            "  inflating: /content/gdrive/MyDrive/Curso-Jetson/imagenes/cartas/sota/000000047.png  \n",
            "  inflating: /content/gdrive/MyDrive/Curso-Jetson/imagenes/cartas/sota/000000048.png  \n",
            "  inflating: /content/gdrive/MyDrive/Curso-Jetson/imagenes/cartas/sota/000000050.png  \n",
            "  inflating: /content/gdrive/MyDrive/Curso-Jetson/imagenes/cartas/sota/000000049.png  \n",
            "  inflating: /content/gdrive/MyDrive/Curso-Jetson/imagenes/cartas/sota/000000052.png  \n",
            "  inflating: /content/gdrive/MyDrive/Curso-Jetson/imagenes/cartas/sota/000000051.png  \n",
            "  inflating: /content/gdrive/MyDrive/Curso-Jetson/imagenes/cartas/sota/000000054.png  \n",
            "  inflating: /content/gdrive/MyDrive/Curso-Jetson/imagenes/cartas/sota/000000053.png  \n",
            "  inflating: /content/gdrive/MyDrive/Curso-Jetson/imagenes/cartas/sota/000000055.png  \n",
            "  inflating: /content/gdrive/MyDrive/Curso-Jetson/imagenes/cartas/sota/000000056.png  \n",
            "  inflating: /content/gdrive/MyDrive/Curso-Jetson/imagenes/cartas/sota/000000057.png  \n",
            "  inflating: /content/gdrive/MyDrive/Curso-Jetson/imagenes/cartas/sota/000000058.png  \n",
            "  inflating: /content/gdrive/MyDrive/Curso-Jetson/imagenes/cartas/sota/000000059.png  \n",
            "  inflating: /content/gdrive/MyDrive/Curso-Jetson/imagenes/cartas/sota/000000060.png  \n",
            "  inflating: /content/gdrive/MyDrive/Curso-Jetson/imagenes/cartas/sota/000000061.png  \n",
            "  inflating: /content/gdrive/MyDrive/Curso-Jetson/imagenes/cartas/sota/000000062.png  \n",
            "  inflating: /content/gdrive/MyDrive/Curso-Jetson/imagenes/cartas/sota/000000063.png  \n",
            "  inflating: /content/gdrive/MyDrive/Curso-Jetson/imagenes/cartas/sota/000000064.png  \n",
            "  inflating: /content/gdrive/MyDrive/Curso-Jetson/imagenes/cartas/sota/000000065.png  \n",
            "  inflating: /content/gdrive/MyDrive/Curso-Jetson/imagenes/cartas/sota/000000066.png  \n",
            "  inflating: /content/gdrive/MyDrive/Curso-Jetson/imagenes/cartas/sota/000000067.png  \n",
            "  inflating: /content/gdrive/MyDrive/Curso-Jetson/imagenes/cartas/sota/000000068.png  \n",
            "  inflating: /content/gdrive/MyDrive/Curso-Jetson/imagenes/cartas/sota/000000069.png  \n",
            "  inflating: /content/gdrive/MyDrive/Curso-Jetson/imagenes/cartas/sota/000000070.png  \n",
            "  inflating: /content/gdrive/MyDrive/Curso-Jetson/imagenes/cartas/sota/000000071.png  \n",
            "  inflating: /content/gdrive/MyDrive/Curso-Jetson/imagenes/cartas/sota/000000072.png  \n",
            "  inflating: /content/gdrive/MyDrive/Curso-Jetson/imagenes/cartas/sota/000000073.png  \n",
            "  inflating: /content/gdrive/MyDrive/Curso-Jetson/imagenes/cartas/sota/000000075.png  \n",
            "  inflating: /content/gdrive/MyDrive/Curso-Jetson/imagenes/cartas/sota/000000074.png  \n",
            "  inflating: /content/gdrive/MyDrive/Curso-Jetson/imagenes/cartas/sota/000000076.png  \n",
            "  inflating: /content/gdrive/MyDrive/Curso-Jetson/imagenes/cartas/sota/000000077.png  \n",
            "  inflating: /content/gdrive/MyDrive/Curso-Jetson/imagenes/cartas/sota/000000078.png  \n",
            "  inflating: /content/gdrive/MyDrive/Curso-Jetson/imagenes/cartas/sota/000000079.png  \n",
            "  inflating: /content/gdrive/MyDrive/Curso-Jetson/imagenes/cartas/sota/000000080.png  \n",
            "   creating: /content/gdrive/MyDrive/Curso-Jetson/imagenes/cartas/caballo/\n",
            "  inflating: /content/gdrive/MyDrive/Curso-Jetson/imagenes/cartas/caballo/000000000.png  \n",
            "  inflating: /content/gdrive/MyDrive/Curso-Jetson/imagenes/cartas/caballo/000000001.png  \n",
            "  inflating: /content/gdrive/MyDrive/Curso-Jetson/imagenes/cartas/caballo/000000002.png  \n",
            "  inflating: /content/gdrive/MyDrive/Curso-Jetson/imagenes/cartas/caballo/000000003.png  \n",
            "  inflating: /content/gdrive/MyDrive/Curso-Jetson/imagenes/cartas/caballo/000000004.png  \n",
            "  inflating: /content/gdrive/MyDrive/Curso-Jetson/imagenes/cartas/caballo/000000005.png  \n",
            "  inflating: /content/gdrive/MyDrive/Curso-Jetson/imagenes/cartas/caballo/000000006.png  \n",
            "  inflating: /content/gdrive/MyDrive/Curso-Jetson/imagenes/cartas/caballo/000000007.png  \n",
            "  inflating: /content/gdrive/MyDrive/Curso-Jetson/imagenes/cartas/caballo/000000008.png  \n",
            "  inflating: /content/gdrive/MyDrive/Curso-Jetson/imagenes/cartas/caballo/000000009.png  \n",
            "  inflating: /content/gdrive/MyDrive/Curso-Jetson/imagenes/cartas/caballo/000000010.png  \n",
            "  inflating: /content/gdrive/MyDrive/Curso-Jetson/imagenes/cartas/caballo/000000011.png  \n",
            "  inflating: /content/gdrive/MyDrive/Curso-Jetson/imagenes/cartas/caballo/000000012.png  \n",
            "  inflating: /content/gdrive/MyDrive/Curso-Jetson/imagenes/cartas/caballo/000000013.png  \n",
            "  inflating: /content/gdrive/MyDrive/Curso-Jetson/imagenes/cartas/caballo/000000014.png  \n",
            "  inflating: /content/gdrive/MyDrive/Curso-Jetson/imagenes/cartas/caballo/000000015.png  \n",
            "  inflating: /content/gdrive/MyDrive/Curso-Jetson/imagenes/cartas/caballo/000000016.png  \n",
            "  inflating: /content/gdrive/MyDrive/Curso-Jetson/imagenes/cartas/caballo/000000017.png  \n",
            "  inflating: /content/gdrive/MyDrive/Curso-Jetson/imagenes/cartas/caballo/000000018.png  \n",
            "  inflating: /content/gdrive/MyDrive/Curso-Jetson/imagenes/cartas/caballo/000000019.png  \n",
            "  inflating: /content/gdrive/MyDrive/Curso-Jetson/imagenes/cartas/caballo/000000020.png  \n",
            "  inflating: /content/gdrive/MyDrive/Curso-Jetson/imagenes/cartas/caballo/000000021.png  \n",
            "  inflating: /content/gdrive/MyDrive/Curso-Jetson/imagenes/cartas/caballo/000000022.png  \n",
            "  inflating: /content/gdrive/MyDrive/Curso-Jetson/imagenes/cartas/caballo/000000023.png  \n",
            "  inflating: /content/gdrive/MyDrive/Curso-Jetson/imagenes/cartas/caballo/000000024.png  \n",
            "  inflating: /content/gdrive/MyDrive/Curso-Jetson/imagenes/cartas/caballo/000000025.png  \n",
            "  inflating: /content/gdrive/MyDrive/Curso-Jetson/imagenes/cartas/caballo/000000026.png  \n",
            "  inflating: /content/gdrive/MyDrive/Curso-Jetson/imagenes/cartas/caballo/000000027.png  \n",
            "  inflating: /content/gdrive/MyDrive/Curso-Jetson/imagenes/cartas/caballo/000000028.png  \n",
            "  inflating: /content/gdrive/MyDrive/Curso-Jetson/imagenes/cartas/caballo/000000029.png  \n",
            "  inflating: /content/gdrive/MyDrive/Curso-Jetson/imagenes/cartas/caballo/000000030.png  \n",
            "  inflating: /content/gdrive/MyDrive/Curso-Jetson/imagenes/cartas/caballo/000000031.png  \n",
            "  inflating: /content/gdrive/MyDrive/Curso-Jetson/imagenes/cartas/caballo/000000032.png  \n",
            "  inflating: /content/gdrive/MyDrive/Curso-Jetson/imagenes/cartas/caballo/000000033.png  \n",
            "  inflating: /content/gdrive/MyDrive/Curso-Jetson/imagenes/cartas/caballo/000000034.png  \n",
            "  inflating: /content/gdrive/MyDrive/Curso-Jetson/imagenes/cartas/caballo/000000035.png  \n",
            "  inflating: /content/gdrive/MyDrive/Curso-Jetson/imagenes/cartas/caballo/000000036.png  \n",
            "  inflating: /content/gdrive/MyDrive/Curso-Jetson/imagenes/cartas/caballo/000000037.png  \n",
            "  inflating: /content/gdrive/MyDrive/Curso-Jetson/imagenes/cartas/caballo/000000038.png  \n",
            "  inflating: /content/gdrive/MyDrive/Curso-Jetson/imagenes/cartas/caballo/000000039.png  \n",
            "  inflating: /content/gdrive/MyDrive/Curso-Jetson/imagenes/cartas/caballo/000000040.png  \n",
            "  inflating: /content/gdrive/MyDrive/Curso-Jetson/imagenes/cartas/caballo/000000041.png  \n",
            "  inflating: /content/gdrive/MyDrive/Curso-Jetson/imagenes/cartas/caballo/000000042.png  \n",
            "  inflating: /content/gdrive/MyDrive/Curso-Jetson/imagenes/cartas/caballo/000000043.png  \n",
            "  inflating: /content/gdrive/MyDrive/Curso-Jetson/imagenes/cartas/caballo/000000044.png  \n",
            "  inflating: /content/gdrive/MyDrive/Curso-Jetson/imagenes/cartas/caballo/000000045.png  \n",
            "  inflating: /content/gdrive/MyDrive/Curso-Jetson/imagenes/cartas/caballo/000000046.png  \n",
            "  inflating: /content/gdrive/MyDrive/Curso-Jetson/imagenes/cartas/caballo/000000047.png  \n",
            "  inflating: /content/gdrive/MyDrive/Curso-Jetson/imagenes/cartas/caballo/000000048.png  \n",
            "  inflating: /content/gdrive/MyDrive/Curso-Jetson/imagenes/cartas/caballo/000000049.png  \n",
            "  inflating: /content/gdrive/MyDrive/Curso-Jetson/imagenes/cartas/caballo/000000050.png  \n",
            "  inflating: /content/gdrive/MyDrive/Curso-Jetson/imagenes/cartas/caballo/000000051.png  \n",
            "  inflating: /content/gdrive/MyDrive/Curso-Jetson/imagenes/cartas/caballo/000000052.png  \n",
            "  inflating: /content/gdrive/MyDrive/Curso-Jetson/imagenes/cartas/caballo/000000053.png  \n",
            "  inflating: /content/gdrive/MyDrive/Curso-Jetson/imagenes/cartas/caballo/000000054.png  \n",
            "  inflating: /content/gdrive/MyDrive/Curso-Jetson/imagenes/cartas/caballo/000000055.png  \n",
            "  inflating: /content/gdrive/MyDrive/Curso-Jetson/imagenes/cartas/caballo/000000056.png  \n",
            "  inflating: /content/gdrive/MyDrive/Curso-Jetson/imagenes/cartas/caballo/000000057.png  \n",
            "  inflating: /content/gdrive/MyDrive/Curso-Jetson/imagenes/cartas/caballo/000000058.png  \n",
            "  inflating: /content/gdrive/MyDrive/Curso-Jetson/imagenes/cartas/caballo/000000059.png  \n",
            "  inflating: /content/gdrive/MyDrive/Curso-Jetson/imagenes/cartas/caballo/000000060.png  \n",
            "  inflating: /content/gdrive/MyDrive/Curso-Jetson/imagenes/cartas/caballo/000000061.png  \n",
            "  inflating: /content/gdrive/MyDrive/Curso-Jetson/imagenes/cartas/caballo/000000062.png  \n",
            "  inflating: /content/gdrive/MyDrive/Curso-Jetson/imagenes/cartas/caballo/000000063.png  \n",
            "  inflating: /content/gdrive/MyDrive/Curso-Jetson/imagenes/cartas/caballo/000000064.png  \n",
            "  inflating: /content/gdrive/MyDrive/Curso-Jetson/imagenes/cartas/caballo/000000065.png  \n",
            "  inflating: /content/gdrive/MyDrive/Curso-Jetson/imagenes/cartas/caballo/000000066.png  \n",
            "  inflating: /content/gdrive/MyDrive/Curso-Jetson/imagenes/cartas/caballo/000000067.png  \n",
            "  inflating: /content/gdrive/MyDrive/Curso-Jetson/imagenes/cartas/caballo/000000068.png  \n",
            "  inflating: /content/gdrive/MyDrive/Curso-Jetson/imagenes/cartas/caballo/000000069.png  \n",
            "  inflating: /content/gdrive/MyDrive/Curso-Jetson/imagenes/cartas/caballo/000000070.png  \n",
            "  inflating: /content/gdrive/MyDrive/Curso-Jetson/imagenes/cartas/caballo/000000071.png  \n",
            "  inflating: /content/gdrive/MyDrive/Curso-Jetson/imagenes/cartas/caballo/000000072.png  \n",
            "  inflating: /content/gdrive/MyDrive/Curso-Jetson/imagenes/cartas/caballo/000000073.png  \n",
            "  inflating: /content/gdrive/MyDrive/Curso-Jetson/imagenes/cartas/caballo/000000074.png  \n",
            "  inflating: /content/gdrive/MyDrive/Curso-Jetson/imagenes/cartas/caballo/000000075.png  \n",
            "  inflating: /content/gdrive/MyDrive/Curso-Jetson/imagenes/cartas/caballo/000000076.png  \n",
            "  inflating: /content/gdrive/MyDrive/Curso-Jetson/imagenes/cartas/caballo/000000077.png  \n",
            "  inflating: /content/gdrive/MyDrive/Curso-Jetson/imagenes/cartas/caballo/000000078.png  \n",
            "  inflating: /content/gdrive/MyDrive/Curso-Jetson/imagenes/cartas/caballo/000000079.png  \n",
            "  inflating: /content/gdrive/MyDrive/Curso-Jetson/imagenes/cartas/caballo/000000080.png  \n",
            "   creating: /content/gdrive/MyDrive/Curso-Jetson/imagenes/cartas/rey/\n",
            "  inflating: /content/gdrive/MyDrive/Curso-Jetson/imagenes/cartas/rey/000000000.png  \n",
            "  inflating: /content/gdrive/MyDrive/Curso-Jetson/imagenes/cartas/rey/000000001.png  \n",
            "  inflating: /content/gdrive/MyDrive/Curso-Jetson/imagenes/cartas/rey/000000002.png  \n",
            "  inflating: /content/gdrive/MyDrive/Curso-Jetson/imagenes/cartas/rey/000000003.png  \n",
            "  inflating: /content/gdrive/MyDrive/Curso-Jetson/imagenes/cartas/rey/000000004.png  \n",
            "  inflating: /content/gdrive/MyDrive/Curso-Jetson/imagenes/cartas/rey/000000005.png  \n",
            "  inflating: /content/gdrive/MyDrive/Curso-Jetson/imagenes/cartas/rey/000000006.png  \n",
            "  inflating: /content/gdrive/MyDrive/Curso-Jetson/imagenes/cartas/rey/000000007.png  \n",
            "  inflating: /content/gdrive/MyDrive/Curso-Jetson/imagenes/cartas/rey/000000008.png  \n",
            "  inflating: /content/gdrive/MyDrive/Curso-Jetson/imagenes/cartas/rey/000000009.png  \n",
            "  inflating: /content/gdrive/MyDrive/Curso-Jetson/imagenes/cartas/rey/000000010.png  \n",
            "  inflating: /content/gdrive/MyDrive/Curso-Jetson/imagenes/cartas/rey/000000011.png  \n",
            "  inflating: /content/gdrive/MyDrive/Curso-Jetson/imagenes/cartas/rey/000000012.png  \n",
            "  inflating: /content/gdrive/MyDrive/Curso-Jetson/imagenes/cartas/rey/000000013.png  \n",
            "  inflating: /content/gdrive/MyDrive/Curso-Jetson/imagenes/cartas/rey/000000014.png  \n",
            "  inflating: /content/gdrive/MyDrive/Curso-Jetson/imagenes/cartas/rey/000000015.png  \n",
            "  inflating: /content/gdrive/MyDrive/Curso-Jetson/imagenes/cartas/rey/000000016.png  \n",
            "  inflating: /content/gdrive/MyDrive/Curso-Jetson/imagenes/cartas/rey/000000017.png  \n",
            "  inflating: /content/gdrive/MyDrive/Curso-Jetson/imagenes/cartas/rey/000000018.png  \n",
            "  inflating: /content/gdrive/MyDrive/Curso-Jetson/imagenes/cartas/rey/000000019.png  \n",
            "  inflating: /content/gdrive/MyDrive/Curso-Jetson/imagenes/cartas/rey/000000020.png  \n",
            "  inflating: /content/gdrive/MyDrive/Curso-Jetson/imagenes/cartas/rey/000000021.png  \n",
            "  inflating: /content/gdrive/MyDrive/Curso-Jetson/imagenes/cartas/rey/000000022.png  \n",
            "  inflating: /content/gdrive/MyDrive/Curso-Jetson/imagenes/cartas/rey/000000023.png  \n",
            "  inflating: /content/gdrive/MyDrive/Curso-Jetson/imagenes/cartas/rey/000000024.png  \n",
            "  inflating: /content/gdrive/MyDrive/Curso-Jetson/imagenes/cartas/rey/000000025.png  \n",
            "  inflating: /content/gdrive/MyDrive/Curso-Jetson/imagenes/cartas/rey/000000026.png  \n",
            "  inflating: /content/gdrive/MyDrive/Curso-Jetson/imagenes/cartas/rey/000000027.png  \n",
            "  inflating: /content/gdrive/MyDrive/Curso-Jetson/imagenes/cartas/rey/000000028.png  \n",
            "  inflating: /content/gdrive/MyDrive/Curso-Jetson/imagenes/cartas/rey/000000029.png  \n",
            "  inflating: /content/gdrive/MyDrive/Curso-Jetson/imagenes/cartas/rey/000000030.png  \n",
            "  inflating: /content/gdrive/MyDrive/Curso-Jetson/imagenes/cartas/rey/000000031.png  \n",
            "  inflating: /content/gdrive/MyDrive/Curso-Jetson/imagenes/cartas/rey/000000032.png  \n",
            "  inflating: /content/gdrive/MyDrive/Curso-Jetson/imagenes/cartas/rey/000000033.png  \n",
            "  inflating: /content/gdrive/MyDrive/Curso-Jetson/imagenes/cartas/rey/000000034.png  \n",
            "  inflating: /content/gdrive/MyDrive/Curso-Jetson/imagenes/cartas/rey/000000035.png  \n",
            "  inflating: /content/gdrive/MyDrive/Curso-Jetson/imagenes/cartas/rey/000000036.png  \n",
            "  inflating: /content/gdrive/MyDrive/Curso-Jetson/imagenes/cartas/rey/000000037.png  \n",
            "  inflating: /content/gdrive/MyDrive/Curso-Jetson/imagenes/cartas/rey/000000038.png  \n",
            "  inflating: /content/gdrive/MyDrive/Curso-Jetson/imagenes/cartas/rey/000000039.png  \n",
            "  inflating: /content/gdrive/MyDrive/Curso-Jetson/imagenes/cartas/rey/000000040.png  \n",
            "  inflating: /content/gdrive/MyDrive/Curso-Jetson/imagenes/cartas/rey/000000041.png  \n",
            "  inflating: /content/gdrive/MyDrive/Curso-Jetson/imagenes/cartas/rey/000000042.png  \n",
            "  inflating: /content/gdrive/MyDrive/Curso-Jetson/imagenes/cartas/rey/000000043.png  \n",
            "  inflating: /content/gdrive/MyDrive/Curso-Jetson/imagenes/cartas/rey/000000044.png  \n",
            "  inflating: /content/gdrive/MyDrive/Curso-Jetson/imagenes/cartas/rey/000000045.png  \n",
            "  inflating: /content/gdrive/MyDrive/Curso-Jetson/imagenes/cartas/rey/000000046.png  \n",
            "  inflating: /content/gdrive/MyDrive/Curso-Jetson/imagenes/cartas/rey/000000047.png  \n",
            "  inflating: /content/gdrive/MyDrive/Curso-Jetson/imagenes/cartas/rey/000000048.png  \n",
            "  inflating: /content/gdrive/MyDrive/Curso-Jetson/imagenes/cartas/rey/000000049.png  \n",
            "  inflating: /content/gdrive/MyDrive/Curso-Jetson/imagenes/cartas/rey/000000050.png  \n",
            "  inflating: /content/gdrive/MyDrive/Curso-Jetson/imagenes/cartas/rey/000000051.png  \n",
            "  inflating: /content/gdrive/MyDrive/Curso-Jetson/imagenes/cartas/rey/000000052.png  \n",
            "  inflating: /content/gdrive/MyDrive/Curso-Jetson/imagenes/cartas/rey/000000053.png  \n",
            "  inflating: /content/gdrive/MyDrive/Curso-Jetson/imagenes/cartas/rey/000000054.png  \n",
            "  inflating: /content/gdrive/MyDrive/Curso-Jetson/imagenes/cartas/rey/000000055.png  \n",
            "  inflating: /content/gdrive/MyDrive/Curso-Jetson/imagenes/cartas/rey/000000056.png  \n",
            "  inflating: /content/gdrive/MyDrive/Curso-Jetson/imagenes/cartas/rey/000000057.png  \n",
            "  inflating: /content/gdrive/MyDrive/Curso-Jetson/imagenes/cartas/rey/000000058.png  \n",
            "  inflating: /content/gdrive/MyDrive/Curso-Jetson/imagenes/cartas/rey/000000059.png  \n",
            "  inflating: /content/gdrive/MyDrive/Curso-Jetson/imagenes/cartas/rey/000000060.png  \n",
            "  inflating: /content/gdrive/MyDrive/Curso-Jetson/imagenes/cartas/rey/000000061.png  \n",
            "  inflating: /content/gdrive/MyDrive/Curso-Jetson/imagenes/cartas/rey/000000062.png  \n",
            "  inflating: /content/gdrive/MyDrive/Curso-Jetson/imagenes/cartas/rey/000000063.png  \n",
            "  inflating: /content/gdrive/MyDrive/Curso-Jetson/imagenes/cartas/rey/000000064.png  \n",
            "  inflating: /content/gdrive/MyDrive/Curso-Jetson/imagenes/cartas/rey/000000065.png  \n",
            "  inflating: /content/gdrive/MyDrive/Curso-Jetson/imagenes/cartas/rey/000000066.png  \n",
            "  inflating: /content/gdrive/MyDrive/Curso-Jetson/imagenes/cartas/rey/000000067.png  \n",
            "  inflating: /content/gdrive/MyDrive/Curso-Jetson/imagenes/cartas/rey/000000068.png  \n",
            "  inflating: /content/gdrive/MyDrive/Curso-Jetson/imagenes/cartas/rey/000000069.png  \n",
            "  inflating: /content/gdrive/MyDrive/Curso-Jetson/imagenes/cartas/rey/000000070.png  \n",
            "  inflating: /content/gdrive/MyDrive/Curso-Jetson/imagenes/cartas/rey/000000071.png  \n",
            "  inflating: /content/gdrive/MyDrive/Curso-Jetson/imagenes/cartas/rey/000000072.png  \n",
            "  inflating: /content/gdrive/MyDrive/Curso-Jetson/imagenes/cartas/rey/000000073.png  \n",
            "  inflating: /content/gdrive/MyDrive/Curso-Jetson/imagenes/cartas/rey/000000074.png  \n",
            "  inflating: /content/gdrive/MyDrive/Curso-Jetson/imagenes/cartas/rey/000000075.png  \n",
            "  inflating: /content/gdrive/MyDrive/Curso-Jetson/imagenes/cartas/rey/000000076.png  \n",
            "  inflating: /content/gdrive/MyDrive/Curso-Jetson/imagenes/cartas/rey/000000077.png  \n",
            "  inflating: /content/gdrive/MyDrive/Curso-Jetson/imagenes/cartas/rey/000000078.png  \n",
            "  inflating: /content/gdrive/MyDrive/Curso-Jetson/imagenes/cartas/rey/000000079.png  \n",
            "  inflating: /content/gdrive/MyDrive/Curso-Jetson/imagenes/cartas/rey/000000080.png  \n"
          ]
        }
      ]
    },
    {
      "cell_type": "code",
      "metadata": {
        "id": "LtB_SsLMr0ZK",
        "colab": {
          "base_uri": "https://localhost:8080/"
        },
        "outputId": "cabd5626-e78e-41bf-ed44-367396b88d3b"
      },
      "source": [
        "!ls '/content/gdrive/MyDrive/Curso-Jetson/imagenes/cables'"
      ],
      "execution_count": null,
      "outputs": [
        {
          "output_type": "stream",
          "name": "stdout",
          "text": [
            "jack  usb-a  usb-c\n"
          ]
        }
      ]
    },
    {
      "cell_type": "code",
      "metadata": {
        "id": "6iKKgDNxqPWS",
        "colab": {
          "base_uri": "https://localhost:8080/"
        },
        "outputId": "67dbb0f8-83bb-4f7f-f11e-012ab82c8ab1"
      },
      "source": [
        "#!ls '/content/gdrive/MyDrive/Curso-Jetson/imagenes/fruits/Training'"
      ],
      "execution_count": null,
      "outputs": [
        {
          "output_type": "stream",
          "name": "stdout",
          "text": [
            "Banana\tLemon  Orange  Strawberry\n"
          ]
        }
      ]
    },
    {
      "cell_type": "code",
      "metadata": {
        "id": "y6dz7gFK9_2R",
        "colab": {
          "base_uri": "https://localhost:8080/"
        },
        "outputId": "b70264e3-5eae-444e-88d7-85fb6107385a"
      },
      "source": [
        "train_ds = tf.keras.preprocessing.image_dataset_from_directory(\n",
        "    '/content/gdrive/MyDrive/Curso-Jetson/imagenes/cartas', labels='inferred', subset=\"training\", validation_split=VALIDATION_SPLIT, seed=0)\n",
        "val_ds = tf.keras.preprocessing.image_dataset_from_directory(\n",
        "    '/content/gdrive/MyDrive/Curso-Jetson/imagenes/cartas', labels='inferred', subset=\"validation\", validation_split=VALIDATION_SPLIT, seed=0)"
      ],
      "execution_count": null,
      "outputs": [
        {
          "output_type": "stream",
          "name": "stdout",
          "text": [
            "Found 243 files belonging to 3 classes.\n",
            "Using 195 files for training.\n",
            "Found 243 files belonging to 3 classes.\n",
            "Using 48 files for validation.\n"
          ]
        }
      ]
    },
    {
      "cell_type": "code",
      "metadata": {
        "id": "EbF7NqIpmOEt",
        "colab": {
          "base_uri": "https://localhost:8080/"
        },
        "outputId": "0b59e148-819c-4604-a791-e6bf95dd95a9"
      },
      "source": [
        "train_ds"
      ],
      "execution_count": null,
      "outputs": [
        {
          "output_type": "execute_result",
          "data": {
            "text/plain": [
              "<BatchDataset shapes: ((None, 256, 256, 3), (None,)), types: (tf.float32, tf.int32)>"
            ]
          },
          "metadata": {},
          "execution_count": 9
        }
      ]
    },
    {
      "cell_type": "markdown",
      "metadata": {
        "id": "LBPmarFduNMH"
      },
      "source": [
        "Vamos a visualizar una de las muestras y la clase a la que pertenece:"
      ]
    },
    {
      "cell_type": "code",
      "source": [
        "def process(image,label):\n",
        "    image = tf.image.resize(image, [224, 224])\n",
        "    image = tf.cast(image/255. ,tf.float32)\n",
        "    return image,label\n",
        "\n",
        "train_ds = train_ds.map(process)\n",
        "val_ds = val_ds.map(process)"
      ],
      "metadata": {
        "id": "PhDtBg-YNxNJ"
      },
      "execution_count": null,
      "outputs": []
    },
    {
      "cell_type": "code",
      "source": [
        "#resize_and_rescale = tf.keras.Sequential([\n",
        "#  tf.keras.layers.experimental.preprocessing.Resizing(224, 224),\n",
        "#  tf.keras.layers.experimental.preprocessing.Rescaling(1./255)\n",
        "#])\n",
        "\n",
        "# otra forma de redimensionar y normalizar, meter capas a la red que hagan las operaciones de preprocesado"
      ],
      "metadata": {
        "id": "mgLzkaSdLM3b"
      },
      "execution_count": null,
      "outputs": []
    },
    {
      "cell_type": "code",
      "source": [
        "data_augmentation = tf.keras.Sequential([\n",
        "  tf.keras.layers.experimental.preprocessing.RandomFlip(\"horizontal_and_vertical\"),\n",
        "  tf.keras.layers.experimental.preprocessing.RandomRotation(0.2),\n",
        "])\n",
        "\n",
        "# esto es lo mismo pero metiendo capas de data augmentation, aleatoriamente les hace espejo y rotaciones"
      ],
      "metadata": {
        "id": "gTrx_SglMtJt"
      },
      "execution_count": null,
      "outputs": []
    },
    {
      "cell_type": "code",
      "metadata": {
        "id": "Czby5KBaeWuO",
        "colab": {
          "base_uri": "https://localhost:8080/"
        },
        "outputId": "afae2b4d-5931-43d4-c539-c286bc561f7f"
      },
      "source": [
        "# TRANSFER LEARNING TMB MEJORA OVERFITTING\n",
        "\n",
        "# Create a pretrained model.\n",
        "base_model = tf.keras.applications.MobileNetV2(\n",
        "  input_tensor=None, include_top=False,     # QUE NO INCLUYA CLASIFICADOR\n",
        "  weights='imagenet', input_shape=(224,224,3))\n",
        "base_model.trainable = False\n",
        "\n",
        "model = tf.keras.Sequential()\n",
        "#model.add(resize_and_rescale)\n",
        "# DATA AUG:\n",
        "model.add(data_augmentation)\n",
        "# PARTE PREENTRENADA\n",
        "model.add(base_model)\n",
        "# CLASIFICADOR\n",
        "model.add(tf.keras.layers.GlobalAveragePooling2D())\n",
        "model.add(tf.keras.layers.Dense(300, activation='relu'))\n",
        "model.add(tf.keras.layers.Dropout(0.2))\n",
        "model.add(tf.keras.layers.Dense(100, activation='relu'))\n",
        "model.add(tf.keras.layers.Dropout(0.2))\n",
        "model.add(tf.keras.layers.Dense(3, activation='softmax')) # CAMBIAR NUMERO DE CLASES !!!!!\n",
        "\n",
        "model.build((None, 224,224,3))\n",
        "model.summary()"
      ],
      "execution_count": null,
      "outputs": [
        {
          "output_type": "stream",
          "name": "stdout",
          "text": [
            "Downloading data from https://storage.googleapis.com/tensorflow/keras-applications/mobilenet_v2/mobilenet_v2_weights_tf_dim_ordering_tf_kernels_1.0_224_no_top.h5\n",
            "9412608/9406464 [==============================] - 0s 0us/step\n",
            "Model: \"sequential_1\"\n",
            "_________________________________________________________________\n",
            "Layer (type)                 Output Shape              Param #   \n",
            "=================================================================\n",
            "sequential (Sequential)      (None, 224, 224, 3)       0         \n",
            "_________________________________________________________________\n",
            "mobilenetv2_1.00_224 (Functi (None, 7, 7, 1280)        2257984   \n",
            "_________________________________________________________________\n",
            "global_average_pooling2d (Gl (None, 1280)              0         \n",
            "_________________________________________________________________\n",
            "dense (Dense)                (None, 300)               384300    \n",
            "_________________________________________________________________\n",
            "dropout (Dropout)            (None, 300)               0         \n",
            "_________________________________________________________________\n",
            "dense_1 (Dense)              (None, 100)               30100     \n",
            "_________________________________________________________________\n",
            "dropout_1 (Dropout)          (None, 100)               0         \n",
            "_________________________________________________________________\n",
            "dense_2 (Dense)              (None, 3)                 303       \n",
            "=================================================================\n",
            "Total params: 2,672,687\n",
            "Trainable params: 414,703\n",
            "Non-trainable params: 2,257,984\n",
            "_________________________________________________________________\n"
          ]
        }
      ]
    },
    {
      "cell_type": "code",
      "source": [
        "model.layers[0].summary()\n"
      ],
      "metadata": {
        "id": "Azre5Sn9MlBr",
        "colab": {
          "base_uri": "https://localhost:8080/"
        },
        "outputId": "023c6565-2b95-458f-aa8f-d4e183493efc"
      },
      "execution_count": null,
      "outputs": [
        {
          "output_type": "stream",
          "name": "stdout",
          "text": [
            "Model: \"sequential\"\n",
            "_________________________________________________________________\n",
            "Layer (type)                 Output Shape              Param #   \n",
            "=================================================================\n",
            "random_flip (RandomFlip)     (None, 224, 224, 3)       0         \n",
            "_________________________________________________________________\n",
            "random_rotation (RandomRotat (None, 224, 224, 3)       0         \n",
            "=================================================================\n",
            "Total params: 0\n",
            "Trainable params: 0\n",
            "Non-trainable params: 0\n",
            "_________________________________________________________________\n"
          ]
        }
      ]
    },
    {
      "cell_type": "code",
      "metadata": {
        "id": "DnyLpWdkxgfL",
        "colab": {
          "base_uri": "https://localhost:8080/"
        },
        "outputId": "af3f44b8-fce9-47dd-d387-8aff2bf3c2ab"
      },
      "source": [
        "model.compile(optimizer=tf.keras.optimizers.SGD(lr=0.001, momentum=0.9),\n",
        "              loss='sparse_categorical_crossentropy',\n",
        "              metrics=['accuracy'])\n",
        "\n",
        "history = model.fit(train_ds, epochs=NB_EPOCH, validation_data=val_ds)"
      ],
      "execution_count": null,
      "outputs": [
        {
          "output_type": "stream",
          "name": "stdout",
          "text": [
            "Epoch 1/5\n",
            "7/7 [==============================] - 25s 741ms/step - loss: 0.4072 - accuracy: 0.8504 - val_loss: 0.1110 - val_accuracy: 0.9792\n",
            "Epoch 2/5\n",
            "7/7 [==============================] - 15s 602ms/step - loss: 0.1808 - accuracy: 0.9218 - val_loss: 0.1082 - val_accuracy: 0.9792\n",
            "Epoch 3/5\n",
            "7/7 [==============================] - 16s 693ms/step - loss: 0.2387 - accuracy: 0.9262 - val_loss: 0.1072 - val_accuracy: 0.9583\n",
            "Epoch 4/5\n",
            "7/7 [==============================] - 15s 584ms/step - loss: 0.2761 - accuracy: 0.8912 - val_loss: 0.1148 - val_accuracy: 0.9583\n",
            "Epoch 5/5\n",
            "7/7 [==============================] - 20s 960ms/step - loss: 0.1726 - accuracy: 0.9564 - val_loss: 0.1070 - val_accuracy: 0.9792\n"
          ]
        }
      ]
    },
    {
      "cell_type": "code",
      "metadata": {
        "id": "jag5mt9WetSw",
        "colab": {
          "base_uri": "https://localhost:8080/"
        },
        "outputId": "8e88d7a2-8176-4289-a7cc-3c5e94761a9a"
      },
      "source": [
        "model.evaluate(val_ds)"
      ],
      "execution_count": null,
      "outputs": [
        {
          "output_type": "stream",
          "name": "stdout",
          "text": [
            "2/2 [==============================] - 3s 67ms/step - loss: 0.1070 - accuracy: 0.9792\n"
          ]
        },
        {
          "output_type": "execute_result",
          "data": {
            "text/plain": [
              "[0.10704121738672256, 0.9791666865348816]"
            ]
          },
          "metadata": {},
          "execution_count": 15
        }
      ]
    },
    {
      "cell_type": "code",
      "metadata": {
        "id": "vfp-QtYLty9x",
        "colab": {
          "base_uri": "https://localhost:8080/",
          "height": 295
        },
        "outputId": "8cd8f41c-12e4-4289-96cc-5e5b758dd975"
      },
      "source": [
        "# summarize history for accuracy\n",
        "plt.plot(history.history['accuracy'])\n",
        "plt.plot(history.history['val_accuracy'])\n",
        "plt.title('model accuracy')\n",
        "plt.ylabel('accuracy')\n",
        "plt.xlabel('epoch')\n",
        "plt.legend(['train', 'test'], loc='upper left')\n",
        "plt.show()"
      ],
      "execution_count": null,
      "outputs": [
        {
          "output_type": "display_data",
          "data": {
            "image/png": "[encoded data removed]",
            "text/plain": [
              "<Figure size 432x288 with 1 Axes>"
            ]
          },
          "metadata": {
            "needs_background": "light"
          }
        }
      ]
    },
    {
      "cell_type": "code",
      "metadata": {
        "id": "3LRcr7g6t14K",
        "colab": {
          "base_uri": "https://localhost:8080/",
          "height": 295
        },
        "outputId": "512da90b-a12b-4a78-8671-428703d3f320"
      },
      "source": [
        "# summarize history for loss\n",
        "plt.plot(history.history['loss'])\n",
        "plt.plot(history.history['val_loss'])\n",
        "plt.title('model loss')\n",
        "plt.ylabel('loss')\n",
        "plt.xlabel('epoch')\n",
        "plt.legend(['train', 'test'], loc='upper left')\n",
        "plt.show()"
      ],
      "execution_count": null,
      "outputs": [
        {
          "output_type": "display_data",
          "data": {
            "image/png": "[encoded data removed]",
            "text/plain": [
              "<Figure size 432x288 with 1 Axes>"
            ]
          },
          "metadata": {
            "needs_background": "light"
          }
        }
      ]
    },
    {
      "cell_type": "code",
      "source": [
        "model.layers.pop(0)\n",
        "#model.layers.pop(0)\n",
        "newInput = tf.keras.layers.Input(batch_shape=(None,224,224,3))\n",
        "newOutputs = model(newInput)\n",
        "newModel = tf.keras.Model(newInput, newOutputs)\n",
        "newModel.summary()"
      ],
      "metadata": {
        "id": "z8BYGB8D6Syf",
        "colab": {
          "base_uri": "https://localhost:8080/"
        },
        "outputId": "223eecf1-c18e-4751-963c-a03e6a3adaee"
      },
      "execution_count": null,
      "outputs": [
        {
          "output_type": "stream",
          "name": "stdout",
          "text": [
            "Model: \"model\"\n",
            "_________________________________________________________________\n",
            "Layer (type)                 Output Shape              Param #   \n",
            "=================================================================\n",
            "input_2 (InputLayer)         [(None, 224, 224, 3)]     0         \n",
            "_________________________________________________________________\n",
            "sequential_1 (Sequential)    (None, 3)                 2672687   \n",
            "=================================================================\n",
            "Total params: 2,672,687\n",
            "Trainable params: 414,703\n",
            "Non-trainable params: 2,257,984\n",
            "_________________________________________________________________\n"
          ]
        }
      ]
    },
    {
      "cell_type": "code",
      "source": [
        "newModel.layers[1].layers[0].summary()"
      ],
      "metadata": {
        "colab": {
          "base_uri": "https://localhost:8080/"
        },
        "id": "l08mx3ZrbIJk",
        "outputId": "53e80134-4bd4-466e-894c-24bed423558b"
      },
      "execution_count": null,
      "outputs": [
        {
          "output_type": "stream",
          "name": "stdout",
          "text": [
            "Model: \"sequential\"\n",
            "_________________________________________________________________\n",
            "Layer (type)                 Output Shape              Param #   \n",
            "=================================================================\n",
            "random_flip (RandomFlip)     (None, 224, 224, 3)       0         \n",
            "_________________________________________________________________\n",
            "random_rotation (RandomRotat (None, 224, 224, 3)       0         \n",
            "=================================================================\n",
            "Total params: 0\n",
            "Trainable params: 0\n",
            "Non-trainable params: 0\n",
            "_________________________________________________________________\n"
          ]
        }
      ]
    },
    {
      "cell_type": "code",
      "source": [
        "newModel.compile(optimizer=tf.keras.optimizers.SGD(lr=0.0001, momentum=0.9),\n",
        "              loss='sparse_categorical_crossentropy',\n",
        "              metrics=['accuracy'])\n",
        "newModel.evaluate(val_ds)"
      ],
      "metadata": {
        "id": "In1Q9GiM-BkV",
        "colab": {
          "base_uri": "https://localhost:8080/"
        },
        "outputId": "68d510b7-6385-4942-9685-4365076c5da9"
      },
      "execution_count": null,
      "outputs": [
        {
          "output_type": "stream",
          "name": "stdout",
          "text": [
            "2/2 [==============================] - 6s 37ms/step - loss: 0.2590 - accuracy: 0.9132\n"
          ]
        },
        {
          "output_type": "execute_result",
          "data": {
            "text/plain": [
              "[0.25326231122016907, 0.9166666865348816]"
            ]
          },
          "metadata": {},
          "execution_count": 31
        }
      ]
    },
    {
      "cell_type": "code",
      "metadata": {
        "id": "QxFejN5pt3ib",
        "colab": {
          "base_uri": "https://localhost:8080/"
        },
        "outputId": "e3bee707-13ce-425c-d2c5-4eb1a3f4b24d"
      },
      "source": [
        "# Save model\n",
        "OUT_MODEL_PATH= '/content/gdrive/MyDrive/Curso-Jetson/models'\n",
        "model.save(os.path.join(OUT_MODEL_PATH, 'model-final-cartas.hdf5'))\n",
        "model.save(os.path.join(OUT_MODEL_PATH, 'model-final-cartas'))"
      ],
      "execution_count": null,
      "outputs": [
        {
          "output_type": "stream",
          "name": "stdout",
          "text": [
            "INFO:tensorflow:Assets written to: /content/gdrive/MyDrive/Curso-Jetson/models/model-final-cartas/assets\n"
          ]
        }
      ]
    },
    {
      "cell_type": "code",
      "metadata": {
        "id": "GGb1V5o0fWLC",
        "colab": {
          "base_uri": "https://localhost:8080/"
        },
        "outputId": "c2a0f08d-f28a-4098-8c14-859efc7eb0ef"
      },
      "source": [
        "!ls $OUT_MODEL_PATH"
      ],
      "execution_count": null,
      "outputs": [
        {
          "output_type": "stream",
          "name": "stdout",
          "text": [
            "model-final-cables_inicial\t\t   model-final-cartas\n",
            "model-final-cables_inicial.hdf5\t\t   model-final-cartas.hdf5\n",
            "model-final-cables_inicial_jueves\t   model-final-pract1\n",
            "model-final-cables_inicial_jueves.hdf5\t   model-final-pract1.hdf5\n",
            "model-final-cables_inicial_jueves_v2\t   model-final-pract2\n",
            "model-final-cables_inicial_jueves_v2.hdf5  model-final-pract2.hdf5\n"
          ]
        }
      ]
    },
    {
      "cell_type": "code",
      "source": [
        ""
      ],
      "metadata": {
        "id": "fd_GfDcDUW12"
      },
      "execution_count": null,
      "outputs": []
    }
  ]
}